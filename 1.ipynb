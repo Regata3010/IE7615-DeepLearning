{
 "cells": [
  {
   "cell_type": "code",
   "execution_count": 3,
   "id": "e3c5fe85",
   "metadata": {},
   "outputs": [],
   "source": [
    "import pandas as pd\n",
    "import numpy as np"
   ]
  },
  {
   "cell_type": "code",
   "execution_count": 4,
   "id": "d58a09fd",
   "metadata": {},
   "outputs": [
    {
     "name": "stdout",
     "output_type": "stream",
     "text": [
      "identity\n",
      "2820    35\n",
      "3227    35\n",
      "3782    35\n",
      "3699    34\n",
      "3745    34\n",
      "        ..\n",
      "9280     1\n",
      "9966     1\n",
      "7778     1\n",
      "1100     1\n",
      "8591     1\n",
      "Length: 10177, dtype: int64\n"
     ]
    }
   ],
   "source": [
    "identity_df = pd.read_csv(\"identity_CelebA.txt\",sep = ' ',header = None,names =[\"image\",\"identity\"])\n",
    "celebrity_counts = identity_df.groupby(\"identity\").size().sort_values(ascending = False)\n",
    "print(celebrity_counts)"
   ]
  },
  {
   "cell_type": "code",
   "execution_count": 5,
   "id": "a06f8d8b",
   "metadata": {},
   "outputs": [
    {
     "name": "stdout",
     "output_type": "stream",
     "text": [
      "29\n"
     ]
    }
   ],
   "source": [
    "print(celebrity_counts[7904])"
   ]
  },
  {
   "cell_type": "code",
   "execution_count": 6,
   "id": "0ecffea6",
   "metadata": {},
   "outputs": [
    {
     "name": "stdout",
     "output_type": "stream",
     "text": [
      "31\n"
     ]
    }
   ],
   "source": [
    "print(celebrity_counts[4126])"
   ]
  },
  {
   "cell_type": "code",
   "execution_count": 7,
   "id": "33b05ebc",
   "metadata": {},
   "outputs": [
    {
     "name": "stdout",
     "output_type": "stream",
     "text": [
      "34\n"
     ]
    }
   ],
   "source": [
    "print(celebrity_counts.nunique())"
   ]
  },
  {
   "cell_type": "code",
   "execution_count": 8,
   "id": "25bec25c",
   "metadata": {},
   "outputs": [
    {
     "name": "stdout",
     "output_type": "stream",
     "text": [
      "identity\n",
      "1         True\n",
      "2        False\n",
      "3         True\n",
      "4         True\n",
      "5        False\n",
      "         ...  \n",
      "10173     True\n",
      "10174     True\n",
      "10175     True\n",
      "10176     True\n",
      "10177    False\n",
      "Length: 10177, dtype: bool\n"
     ]
    }
   ],
   "source": [
    "celeb1 = identity_df.groupby(\"identity\").size() > 20\n",
    "print(celeb1)"
   ]
  },
  {
   "cell_type": "code",
   "execution_count": 14,
   "id": "5f77541c",
   "metadata": {},
   "outputs": [
    {
     "name": "stdout",
     "output_type": "stream",
     "text": [
      "34\n"
     ]
    }
   ],
   "source": [
    "print(celebrity_counts.nunique())"
   ]
  },
  {
   "cell_type": "code",
   "execution_count": 15,
   "id": "8434554b",
   "metadata": {},
   "outputs": [
    {
     "name": "stdout",
     "output_type": "stream",
     "text": [
      "Index([2820, 3227, 3782, 3699, 3745, 9152, 9256, 8968, 1757, 4887,\n",
      "       ...\n",
      "       6276, 8815, 6769, 2708, 3481, 9280, 9966, 7778, 1100, 8591],\n",
      "      dtype='int64', name='identity', length=10177)\n"
     ]
    }
   ],
   "source": [
    "print(celebrity_counts.index)"
   ]
  },
  {
   "cell_type": "code",
   "execution_count": 17,
   "id": "25fec85d",
   "metadata": {},
   "outputs": [
    {
     "name": "stdout",
     "output_type": "stream",
     "text": [
      "\n",
      "Celebrities with 30-50 images (good for training):\n",
      "identity\n",
      "2820    35\n",
      "3227    35\n",
      "3782    35\n",
      "3699    34\n",
      "3745    34\n",
      "9152    32\n",
      "9256    32\n",
      "8968    32\n",
      "1757    31\n",
      "4887    31\n",
      "4978    31\n",
      "2114    31\n",
      "4740    31\n",
      "6568    31\n",
      "9840    31\n",
      "4262    31\n",
      "4126    31\n",
      "8880    30\n",
      "1657    30\n",
      "3880    30\n",
      "dtype: int64\n"
     ]
    }
   ],
   "source": [
    "print(f\"\\nCelebrities with 30-50 images (good for training):\")\n",
    "moderate_celebs = celebrity_counts[(celebrity_counts >= 30) & (celebrity_counts <= 50)]\n",
    "print(moderate_celebs.head(20))"
   ]
  },
  {
   "cell_type": "code",
   "execution_count": 21,
   "id": "d1ff6fef",
   "metadata": {},
   "outputs": [
    {
     "name": "stdout",
     "output_type": "stream",
     "text": [
      "30\n"
     ]
    }
   ],
   "source": [
    "print(moderate_celebs[10173])"
   ]
  },
  {
   "cell_type": "code",
   "execution_count": 28,
   "id": "a35b546a",
   "metadata": {},
   "outputs": [
    {
     "name": "stdout",
     "output_type": "stream",
     "text": [
      "\n",
      "Celebrity 10173 has 30 images\n"
     ]
    }
   ],
   "source": [
    "if 10173 in celebrity_counts.index:\n",
    "    print(f\"\\nCelebrity 10173 has {celebrity_counts[10173]} images\")\n",
    "\n",
    "else:\n",
    "    print(f\"\\nCelebrity ID 10173 not found in dataset!\")\n",
    "    print(f\"Valid celebrity IDs range from {celebrity_counts.index.min()} to {celebrity_counts.index.max()}\")"
   ]
  },
  {
   "cell_type": "code",
   "execution_count": 31,
   "id": "c2b7bbe1",
   "metadata": {},
   "outputs": [
    {
     "name": "stdout",
     "output_type": "stream",
     "text": [
      "Celebrity 10173 has 30 images\n",
      "Copied: 021146.jpg\n",
      "Copied: 037872.jpg\n",
      "Copied: 044239.jpg\n",
      "\n",
      "Results:\n",
      "- Successfully copied: 30 images\n",
      "- Not found: 0 images\n",
      "- Destination: /Users/Deep Learning Core/celebs/images_10173\n"
     ]
    }
   ],
   "source": [
    "import pandas as pd\n",
    "import shutil\n",
    "import os\n",
    "\n",
    "# Define paths\n",
    "base_path = \"/Users/Deep Learning Core\"\n",
    "source_dir = os.path.join(base_path, \"img_align_celeba\")\n",
    "dest_dir = os.path.join(base_path, \"celebs\", \"images_10173\")\n",
    "identity_file = os.path.join(base_path, \"identity_CelebA.txt\")\n",
    "\n",
    "# Create destination directory\n",
    "os.makedirs(dest_dir, exist_ok=True)\n",
    "\n",
    "# Load identity file\n",
    "identity_df1 = pd.read_csv(identity_file, sep=' ', header=None, names=[\"image\", \"identity\"])\n",
    "\n",
    "# Get all images for celebrity 10173\n",
    "celebrity_10173_images = identity_df1[identity_df1['identity'] == 10173]['image'].tolist()\n",
    "print(f\"Celebrity 10173 has {len(celebrity_10173_images)} images\")\n",
    "\n",
    "# Copy each image\n",
    "copied = 0\n",
    "not_found = 0\n",
    "\n",
    "for img_name in celebrity_10173_images:\n",
    "    src = os.path.join(source_dir, img_name)\n",
    "    dst = os.path.join(dest_dir, img_name)\n",
    "    \n",
    "    if os.path.exists(src):\n",
    "        shutil.copy(src, dst)\n",
    "        copied += 1\n",
    "        if copied <= 3:  # Show first 3 as confirmation\n",
    "            print(f\"Copied: {img_name}\")\n",
    "    else:\n",
    "        not_found += 1\n",
    "        print(f\"Not found: {img_name}\")\n",
    "\n",
    "print(f\"\\nResults:\")\n",
    "print(f\"- Successfully copied: {copied} images\")\n",
    "print(f\"- Not found: {not_found} images\")\n",
    "print(f\"- Destination: {dest_dir}\")"
   ]
  }
 ],
 "metadata": {
  "kernelspec": {
   "display_name": "base",
   "language": "python",
   "name": "python3"
  },
  "language_info": {
   "codemirror_mode": {
    "name": "ipython",
    "version": 3
   },
   "file_extension": ".py",
   "mimetype": "text/x-python",
   "name": "python",
   "nbconvert_exporter": "python",
   "pygments_lexer": "ipython3",
   "version": "3.11.8"
  }
 },
 "nbformat": 4,
 "nbformat_minor": 5
}
