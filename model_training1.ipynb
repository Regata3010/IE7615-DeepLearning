{
 "cells": [
  {
   "cell_type": "code",
   "execution_count": 11,
   "id": "0e6cb46f",
   "metadata": {},
   "outputs": [],
   "source": [
    "import torch\n",
    "import torch.nn as nn\n",
    "import torch.optim as optim\n",
    "from torch.utils.data import Dataset, DataLoader\n",
    "import torchvision.transforms as transforms\n",
    "import torchvision.models as models\n",
    "from PIL import Image\n",
    "import pandas as pd\n",
    "import numpy as np\n",
    "import matplotlib.pyplot as plt\n",
    "from sklearn.model_selection import train_test_split\n",
    "import os\n",
    "from tqdm import tqdm\n",
    "import time\n"
   ]
  },
  {
   "cell_type": "code",
   "execution_count": 12,
   "id": "461283c2",
   "metadata": {},
   "outputs": [],
   "source": [
    "BASE_DIR = \"/Users/Deep Learning Core\"\n",
    "IMG_DIR = os.path.join(BASE_DIR, \"img_align_celeba\")\n",
    "IDENTITY_FILE = os.path.join(BASE_DIR, \"identity_CelebA.txt\")\n",
    "\n",
    "BATCH_SIZE = 32\n",
    "NUM_EPOCHS = 10  # Start with 10 epochs\n",
    "LEARNING_RATE = 0.001\n",
    "IMAGE_SIZE = 128\n",
    "NUM_CELEBRITIES = 20"
   ]
  },
  {
   "cell_type": "code",
   "execution_count": 13,
   "id": "e991eb5b",
   "metadata": {},
   "outputs": [],
   "source": [
    "class CelebADataset(Dataset):\n",
    "    def __init__(self, image_names, labels, img_dir, transform=None):\n",
    "        self.image_names = image_names\n",
    "        self.labels = labels\n",
    "        self.img_dir = img_dir\n",
    "        self.transform = transform\n",
    "        \n",
    "    def __len__(self):\n",
    "        return len(self.image_names)\n",
    "    \n",
    "    def __getitem__(self, idx):\n",
    "        img_path = os.path.join(self.img_dir, self.image_names[idx])\n",
    "        image = Image.open(img_path).convert('RGB')\n",
    "        label = self.labels[idx]\n",
    "        \n",
    "        if self.transform:\n",
    "            image = self.transform(image)\n",
    "            \n",
    "        return image, label"
   ]
  },
  {
   "cell_type": "code",
   "execution_count": 14,
   "id": "0ba9222c",
   "metadata": {},
   "outputs": [],
   "source": [
    "class SimpleCNN(nn.Module):\n",
    "    def __init__(self, num_classes):\n",
    "        super(SimpleCNN, self).__init__()\n",
    "        \n",
    "        self.conv1 = nn.Conv2d(3, 32, kernel_size=3, padding=1)\n",
    "        self.conv2 = nn.Conv2d(32, 64, kernel_size=3, padding=1)\n",
    "        self.conv3 = nn.Conv2d(64, 128, kernel_size=3, padding=1)\n",
    "        \n",
    "        self.pool = nn.MaxPool2d(2, 2)\n",
    "        self.relu = nn.ReLU()\n",
    "        self.dropout = nn.Dropout(0.5)\n",
    "        \n",
    "        # After 3 pooling: 128->64->32->16\n",
    "        self.fc1 = nn.Linear(128 * 16 * 16, 256)\n",
    "        self.fc2 = nn.Linear(256, num_classes)\n",
    "        \n",
    "    def forward(self, x):\n",
    "        x = self.pool(self.relu(self.conv1(x)))\n",
    "        x = self.pool(self.relu(self.conv2(x)))\n",
    "        x = self.pool(self.relu(self.conv3(x)))\n",
    "        \n",
    "        x = x.view(x.size(0), -1)\n",
    "        x = self.dropout(self.relu(self.fc1(x)))\n",
    "        x = self.fc2(x)\n",
    "        \n",
    "        return x"
   ]
  },
  {
   "cell_type": "code",
   "execution_count": 15,
   "id": "499375d5",
   "metadata": {},
   "outputs": [
    {
     "name": "stdout",
     "output_type": "stream",
     "text": [
      "Loading data...\n",
      "Added celebrity 10173 to the list\n",
      "\n",
      "Using 20 celebrities\n",
      "Total images: 638\n",
      "Celebrity 10173: 30 images (label=19)\n",
      "\n",
      "Data split:\n",
      "Train: 408\n",
      "Val: 102\n",
      "Test: 128\n",
      "\n",
      "Device: cpu\n",
      "\n",
      "Epoch 1/10\n"
     ]
    },
    {
     "name": "stderr",
     "output_type": "stream",
     "text": [
      "Training: 100%|██████████| 13/13 [00:03<00:00,  4.04it/s]\n",
      "Validation: 100%|██████████| 4/4 [00:00<00:00, 10.46it/s]\n"
     ]
    },
    {
     "name": "stdout",
     "output_type": "stream",
     "text": [
      "Train Acc: 5.64%, Val Acc: 10.78%\n",
      "\n",
      "Epoch 2/10\n"
     ]
    },
    {
     "name": "stderr",
     "output_type": "stream",
     "text": [
      "Training: 100%|██████████| 13/13 [00:02<00:00,  4.38it/s]\n",
      "Validation: 100%|██████████| 4/4 [00:00<00:00, 12.20it/s]\n"
     ]
    },
    {
     "name": "stdout",
     "output_type": "stream",
     "text": [
      "Train Acc: 10.29%, Val Acc: 26.47%\n",
      "\n",
      "Epoch 3/10\n"
     ]
    },
    {
     "name": "stderr",
     "output_type": "stream",
     "text": [
      "Training: 100%|██████████| 13/13 [00:02<00:00,  4.49it/s]\n",
      "Validation: 100%|██████████| 4/4 [00:00<00:00, 11.72it/s]\n"
     ]
    },
    {
     "name": "stdout",
     "output_type": "stream",
     "text": [
      "Train Acc: 23.53%, Val Acc: 22.55%\n",
      "\n",
      "Epoch 4/10\n"
     ]
    },
    {
     "name": "stderr",
     "output_type": "stream",
     "text": [
      "Training: 100%|██████████| 13/13 [00:02<00:00,  4.55it/s]\n",
      "Validation: 100%|██████████| 4/4 [00:00<00:00, 12.00it/s]\n"
     ]
    },
    {
     "name": "stdout",
     "output_type": "stream",
     "text": [
      "Train Acc: 28.92%, Val Acc: 24.51%\n",
      "\n",
      "Epoch 5/10\n"
     ]
    },
    {
     "name": "stderr",
     "output_type": "stream",
     "text": [
      "Training: 100%|██████████| 13/13 [00:02<00:00,  4.54it/s]\n",
      "Validation: 100%|██████████| 4/4 [00:00<00:00, 11.84it/s]\n"
     ]
    },
    {
     "name": "stdout",
     "output_type": "stream",
     "text": [
      "Train Acc: 36.52%, Val Acc: 36.27%\n",
      "\n",
      "Epoch 6/10\n"
     ]
    },
    {
     "name": "stderr",
     "output_type": "stream",
     "text": [
      "Training: 100%|██████████| 13/13 [00:02<00:00,  4.53it/s]\n",
      "Validation: 100%|██████████| 4/4 [00:00<00:00, 11.74it/s]\n"
     ]
    },
    {
     "name": "stdout",
     "output_type": "stream",
     "text": [
      "Train Acc: 45.10%, Val Acc: 40.20%\n",
      "\n",
      "Epoch 7/10\n"
     ]
    },
    {
     "name": "stderr",
     "output_type": "stream",
     "text": [
      "Training: 100%|██████████| 13/13 [00:02<00:00,  4.50it/s]\n",
      "Validation: 100%|██████████| 4/4 [00:00<00:00, 11.96it/s]\n"
     ]
    },
    {
     "name": "stdout",
     "output_type": "stream",
     "text": [
      "Train Acc: 52.45%, Val Acc: 41.18%\n",
      "\n",
      "Epoch 8/10\n"
     ]
    },
    {
     "name": "stderr",
     "output_type": "stream",
     "text": [
      "Training: 100%|██████████| 13/13 [00:02<00:00,  4.53it/s]\n",
      "Validation: 100%|██████████| 4/4 [00:00<00:00, 12.11it/s]\n"
     ]
    },
    {
     "name": "stdout",
     "output_type": "stream",
     "text": [
      "Train Acc: 59.80%, Val Acc: 37.25%\n",
      "\n",
      "Epoch 9/10\n"
     ]
    },
    {
     "name": "stderr",
     "output_type": "stream",
     "text": [
      "Training: 100%|██████████| 13/13 [00:02<00:00,  4.47it/s]\n",
      "Validation: 100%|██████████| 4/4 [00:00<00:00, 12.18it/s]\n"
     ]
    },
    {
     "name": "stdout",
     "output_type": "stream",
     "text": [
      "Train Acc: 71.32%, Val Acc: 47.06%\n",
      "\n",
      "Epoch 10/10\n"
     ]
    },
    {
     "name": "stderr",
     "output_type": "stream",
     "text": [
      "Training: 100%|██████████| 13/13 [00:02<00:00,  4.52it/s]\n",
      "Validation: 100%|██████████| 4/4 [00:00<00:00, 11.81it/s]\n"
     ]
    },
    {
     "name": "stdout",
     "output_type": "stream",
     "text": [
      "Train Acc: 74.26%, Val Acc: 43.14%\n"
     ]
    },
    {
     "name": "stderr",
     "output_type": "stream",
     "text": [
      "Testing: 100%|██████████| 4/4 [00:00<00:00,  8.31it/s]\n"
     ]
    },
    {
     "name": "stdout",
     "output_type": "stream",
     "text": [
      "Test Accuracy: 42.97%\n",
      "\n",
      "Celebrity 10173 Accuracy: 33.33% (2/6)\n"
     ]
    },
    {
     "data": {
      "image/png": "[encoded data removed]",
      "text/plain": [
       "<Figure size 800x500 with 1 Axes>"
      ]
     },
     "metadata": {},
     "output_type": "display_data"
    },
    {
     "name": "stdout",
     "output_type": "stream",
     "text": [
      "\n",
      "Model saved as 'cnn_model.pth'\n",
      "Plot saved as 'cnn_results.png'\n"
     ]
    }
   ],
   "source": [
    "def main():\n",
    "    \n",
    "    print(\"Loading data...\")\n",
    "    identity_df1 = pd.read_csv(IDENTITY_FILE, sep=' ', header=None, names=['image', 'identity'])\n",
    "    \n",
    "    # Get top N celebrities\n",
    "    celebrity_counts = identity_df1['identity'].value_counts()\n",
    "    top_celebrities = celebrity_counts.head(NUM_CELEBRITIES).index.tolist()\n",
    "    \n",
    "    # Check if 10173 is included\n",
    "    if 10173 in celebrity_counts.index and 10173 not in top_celebrities:\n",
    "        top_celebrities[-1] = 10173\n",
    "        print(\"Added celebrity 10173 to the list\")\n",
    "    \n",
    "    # Filter data\n",
    "    mask = identity_df1['identity'].isin(top_celebrities)\n",
    "    filtered_df = identity_df1[mask].copy()\n",
    "    \n",
    "    # Create label mapping\n",
    "    celebrity_to_label = {celeb: idx for idx, celeb in enumerate(sorted(top_celebrities))}\n",
    "    label_to_celebrity = {idx: celeb for celeb, idx in celebrity_to_label.items()}\n",
    "    \n",
    "    filtered_df['label'] = filtered_df['identity'].map(celebrity_to_label)\n",
    "    \n",
    "    print(f\"\\nUsing {NUM_CELEBRITIES} celebrities\")\n",
    "    print(f\"Total images: {len(filtered_df)}\")\n",
    "    \n",
    "    # Check celebrity 10173\n",
    "    if 10173 in celebrity_to_label:\n",
    "        count_10173 = (filtered_df['identity'] == 10173).sum()\n",
    "        print(f\"Celebrity 10173: {count_10173} images (label={celebrity_to_label[10173]})\")\n",
    "    \n",
    "    # Get data\n",
    "    image_names = filtered_df['image'].tolist()\n",
    "    labels = filtered_df['label'].tolist()\n",
    "    \n",
    "    # Split data\n",
    "    X_train, X_test, y_train, y_test = train_test_split(\n",
    "        image_names, labels, test_size=0.2, random_state=42, stratify=labels\n",
    "    )\n",
    "    X_train, X_val, y_train, y_val = train_test_split(\n",
    "        X_train, y_train, test_size=0.2, random_state=42, stratify=y_train\n",
    "    )\n",
    "    \n",
    "    print(f\"\\nData split:\")\n",
    "    print(f\"Train: {len(X_train)}\")\n",
    "    print(f\"Val: {len(X_val)}\")\n",
    "    print(f\"Test: {len(X_test)}\")\n",
    "    \n",
    "    # Transforms\n",
    "    transform = transforms.Compose([\n",
    "        transforms.Resize((IMAGE_SIZE, IMAGE_SIZE)),\n",
    "        transforms.ToTensor(),\n",
    "        transforms.Normalize([0.485, 0.456, 0.406], [0.229, 0.224, 0.225])\n",
    "    ])\n",
    "    \n",
    "    # Datasets\n",
    "    train_dataset = CelebADataset(X_train, y_train, IMG_DIR, transform)\n",
    "    val_dataset = CelebADataset(X_val, y_val, IMG_DIR, transform)\n",
    "    test_dataset = CelebADataset(X_test, y_test, IMG_DIR, transform)\n",
    "    \n",
    "    \n",
    "    train_loader = DataLoader(train_dataset, batch_size=BATCH_SIZE, shuffle=True, num_workers=0)\n",
    "    val_loader = DataLoader(val_dataset, batch_size=BATCH_SIZE, shuffle=False, num_workers=0)\n",
    "    test_loader = DataLoader(test_dataset, batch_size=BATCH_SIZE, shuffle=False, num_workers=0)\n",
    "    \n",
    "    # Model\n",
    "    device = torch.device(\"cuda\" if torch.cuda.is_available() else \"cpu\")\n",
    "    print(f\"\\nDevice: {device}\")\n",
    "    \n",
    "    model = SimpleCNN(NUM_CELEBRITIES)\n",
    "    model = model.to(device)\n",
    "    \n",
    "    criterion = nn.CrossEntropyLoss()\n",
    "    optimizer = optim.Adam(model.parameters(), lr=LEARNING_RATE)\n",
    "    \n",
    "    # Training\n",
    "    \n",
    "    \n",
    "    train_accs = []\n",
    "    val_accs = []\n",
    "    \n",
    "    for epoch in range(NUM_EPOCHS):\n",
    "        print(f\"\\nEpoch {epoch+1}/{NUM_EPOCHS}\")\n",
    "        \n",
    "        # Training\n",
    "        model.train()\n",
    "        train_correct = 0\n",
    "        train_total = 0\n",
    "        train_loss = 0.0\n",
    "        \n",
    "        for images, labels_batch in tqdm(train_loader, desc=\"Training\"):\n",
    "            images = images.to(device)\n",
    "            labels_batch = labels_batch.to(device)\n",
    "            \n",
    "            optimizer.zero_grad()\n",
    "            outputs = model(images)\n",
    "            loss = criterion(outputs, labels_batch)\n",
    "            loss.backward()\n",
    "            optimizer.step()\n",
    "            \n",
    "            train_loss += loss.item()\n",
    "            _, predicted = torch.max(outputs.data, 1)\n",
    "            train_total += labels_batch.size(0)\n",
    "            train_correct += (predicted == labels_batch).sum().item()\n",
    "        \n",
    "        train_acc = 100 * train_correct / train_total\n",
    "        \n",
    "        # Validation\n",
    "        model.eval()\n",
    "        val_correct = 0\n",
    "        val_total = 0\n",
    "        val_loss = 0.0\n",
    "        \n",
    "        with torch.no_grad():\n",
    "            for images, labels_batch in tqdm(val_loader, desc=\"Validation\"):\n",
    "                images = images.to(device)\n",
    "                labels_batch = labels_batch.to(device)\n",
    "                \n",
    "                outputs = model(images)\n",
    "                loss = criterion(outputs, labels_batch)\n",
    "                \n",
    "                val_loss += loss.item()\n",
    "                _, predicted = torch.max(outputs.data, 1)\n",
    "                val_total += labels_batch.size(0)\n",
    "                val_correct += (predicted == labels_batch).sum().item()\n",
    "        \n",
    "        val_acc = 100 * val_correct / val_total\n",
    "        \n",
    "        print(f\"Train Acc: {train_acc:.2f}%, Val Acc: {val_acc:.2f}%\")\n",
    "        \n",
    "        train_accs.append(train_acc)\n",
    "        val_accs.append(val_acc)\n",
    "    \n",
    "    \n",
    "    \n",
    "    model.eval()\n",
    "    test_correct = 0\n",
    "    test_total = 0\n",
    "    test_preds = []\n",
    "    test_labels = []\n",
    "    \n",
    "    with torch.no_grad():\n",
    "        for images, labels_batch in tqdm(test_loader, desc=\"Testing\"):\n",
    "            images = images.to(device)\n",
    "            labels_batch = labels_batch.to(device)\n",
    "            \n",
    "            outputs = model(images)\n",
    "            _, predicted = torch.max(outputs.data, 1)\n",
    "            \n",
    "            test_total += labels_batch.size(0)\n",
    "            test_correct += (predicted == labels_batch).sum().item()\n",
    "            \n",
    "            test_preds.extend(predicted.cpu().numpy())\n",
    "            test_labels.extend(labels_batch.cpu().numpy())\n",
    "    \n",
    "    test_acc = 100 * test_correct / test_total\n",
    "    print(f\"Test Accuracy: {test_acc:.2f}%\")\n",
    "    \n",
    "    # Check celebrity 10173 performance\n",
    "    if 10173 in celebrity_to_label:\n",
    "        label_10173 = celebrity_to_label[10173]\n",
    "        mask = np.array(test_labels) == label_10173\n",
    "        if mask.sum() > 0:\n",
    "            correct_10173 = (np.array(test_preds)[mask] == label_10173).sum()\n",
    "            total_10173 = mask.sum()\n",
    "            acc_10173 = 100 * correct_10173 / total_10173\n",
    "            print(f\"\\nCelebrity 10173 Accuracy: {acc_10173:.2f}% ({correct_10173}/{total_10173})\")\n",
    "    \n",
    "    # Plot\n",
    "    plt.figure(figsize=(8, 5))\n",
    "    plt.plot(range(1, NUM_EPOCHS+1), train_accs, label='Train')\n",
    "    plt.plot(range(1, NUM_EPOCHS+1), val_accs, label='Validation')\n",
    "    plt.xlabel('Epoch')\n",
    "    plt.ylabel('Accuracy (%)')\n",
    "    plt.title('CNN Training Progress')\n",
    "    plt.legend()\n",
    "    plt.grid(True)\n",
    "    plt.savefig('cnn_results.png')\n",
    "    plt.show()\n",
    "    \n",
    "    # Save model\n",
    "    torch.save(model.state_dict(), 'cnn_model.pth')\n",
    "    print(\"\\nModel saved as 'cnn_model.pth'\")\n",
    "    print(\"Plot saved as 'cnn_results.png'\")\n",
    "    \n",
    "    \n",
    "if __name__ == \"__main__\":\n",
    "    main()"
   ]
  },
  {
   "cell_type": "markdown",
   "id": "7ff338b5",
   "metadata": {},
   "source": [
    "Part 2 : All the Other Models"
   ]
  },
  {
   "cell_type": "code",
   "execution_count": 16,
   "id": "7d922ce8",
   "metadata": {},
   "outputs": [],
   "source": [
    "BASE_DIR = \"/Users/Deep Learning Core\"\n",
    "IMG_DIR = os.path.join(BASE_DIR, \"img_align_celeba\")\n",
    "IDENTITY_FILE = os.path.join(BASE_DIR, \"identity_CelebA.txt\")\n",
    "\n",
    "BATCH_SIZE = 32\n",
    "NUM_EPOCHS = 10\n",
    "LEARNING_RATE = 0.001\n",
    "IMAGE_SIZE = 224  # Standard size for pre-trained models\n",
    "NUM_CELEBRITIES = 20"
   ]
  },
  {
   "cell_type": "code",
   "execution_count": 17,
   "id": "a02ff45a",
   "metadata": {},
   "outputs": [
    {
     "name": "stdout",
     "output_type": "stream",
     "text": [
      "Using device: mps\n"
     ]
    }
   ],
   "source": [
    "device = torch.device(\"cuda\" if torch.cuda.is_available() else \"mps\" if torch.backends.mps.is_available() else \"cpu\")\n",
    "print(f\"Using device: {device}\")"
   ]
  },
  {
   "cell_type": "code",
   "execution_count": 18,
   "id": "c333ccee",
   "metadata": {},
   "outputs": [],
   "source": [
    "class TransferLearningModel(nn.Module):\n",
    "    def __init__(self, model_name, num_classes, freeze_backbone=True):\n",
    "        super(TransferLearningModel, self).__init__()\n",
    "        \n",
    "        self.model_name = model_name\n",
    "        \n",
    "        # Load pre-trained model\n",
    "        if model_name == 'resnet50':\n",
    "            self.model = models.resnet50(pretrained=True)\n",
    "            num_features = self.model.fc.in_features\n",
    "            self.model.fc = nn.Linear(num_features, num_classes)\n",
    "            \n",
    "        elif model_name == 'resnet18':\n",
    "            self.model = models.resnet18(pretrained=True)\n",
    "            num_features = self.model.fc.in_features\n",
    "            self.model.fc = nn.Linear(num_features, num_classes)\n",
    "            \n",
    "        elif model_name == 'mobilenet_v2':\n",
    "            self.model = models.mobilenet_v2(pretrained=True)\n",
    "            num_features = self.model.classifier[1].in_features\n",
    "            self.model.classifier = nn.Sequential(\n",
    "                nn.Dropout(0.2),\n",
    "                nn.Linear(num_features, num_classes)\n",
    "            )\n",
    "            \n",
    "        elif model_name == 'efficientnet_b0':\n",
    "            self.model = models.efficientnet_b0(pretrained=True)\n",
    "            num_features = self.model.classifier[1].in_features\n",
    "            self.model.classifier = nn.Sequential(\n",
    "                nn.Dropout(0.2),\n",
    "                nn.Linear(num_features, num_classes)\n",
    "            )\n",
    "            \n",
    "        elif model_name == 'vgg16':\n",
    "            self.model = models.vgg16(pretrained=True)\n",
    "            num_features = self.model.classifier[6].in_features\n",
    "            self.model.classifier[6] = nn.Linear(num_features, num_classes)\n",
    "            \n",
    "        else:\n",
    "            raise ValueError(f\"Model {model_name} not supported\")\n",
    "        \n",
    "        # Freeze backbone if specified\n",
    "        if freeze_backbone:\n",
    "            self._freeze_backbone()\n",
    "    \n",
    "    def _freeze_backbone(self):\n",
    "        \"\"\"Freeze all layers except the final classifier\"\"\"\n",
    "        if self.model_name in ['resnet50', 'resnet18']:\n",
    "            for param in self.model.parameters():\n",
    "                param.requires_grad = False\n",
    "            for param in self.model.fc.parameters():\n",
    "                param.requires_grad = True\n",
    "                \n",
    "        elif self.model_name in ['mobilenet_v2', 'efficientnet_b0']:\n",
    "            for param in self.model.parameters():\n",
    "                param.requires_grad = False\n",
    "            for param in self.model.classifier.parameters():\n",
    "                param.requires_grad = True\n",
    "                \n",
    "        elif self.model_name == 'vgg16':\n",
    "            for param in self.model.features.parameters():\n",
    "                param.requires_grad = False\n",
    "            for param in self.model.classifier.parameters():\n",
    "                param.requires_grad = True\n",
    "    \n",
    "    def forward(self, x):\n",
    "        return self.model(x)\n"
   ]
  },
  {
   "cell_type": "code",
   "execution_count": 19,
   "id": "fc7d46d7",
   "metadata": {},
   "outputs": [],
   "source": [
    "def train_model(model, train_loader, val_loader, criterion, optimizer, num_epochs, model_name):\n",
    "    \"\"\"Train a model and return training history\"\"\"\n",
    "    \n",
    "    train_losses = []\n",
    "    train_accs = []\n",
    "    val_losses = []\n",
    "    val_accs = []\n",
    "    \n",
    "    best_val_acc = 0.0\n",
    "    \n",
    "    for epoch in range(num_epochs):\n",
    "        print(f\"\\nEpoch {epoch+1}/{num_epochs} - {model_name}\")\n",
    "        \n",
    "        # Training phase\n",
    "        model.train()\n",
    "        train_loss = 0.0\n",
    "        train_correct = 0\n",
    "        train_total = 0\n",
    "        \n",
    "        for images, labels in tqdm(train_loader, desc=\"Training\"):\n",
    "            images = images.to(device)\n",
    "            labels = labels.to(device)\n",
    "            \n",
    "            optimizer.zero_grad()\n",
    "            outputs = model(images)\n",
    "            loss = criterion(outputs, labels)\n",
    "            loss.backward()\n",
    "            optimizer.step()\n",
    "            \n",
    "            train_loss += loss.item()\n",
    "            _, predicted = torch.max(outputs.data, 1)\n",
    "            train_total += labels.size(0)\n",
    "            train_correct += (predicted == labels).sum().item()\n",
    "        \n",
    "        avg_train_loss = train_loss / len(train_loader)\n",
    "        train_acc = 100 * train_correct / train_total\n",
    "        \n",
    "        # Validation phase\n",
    "        model.eval()\n",
    "        val_loss = 0.0\n",
    "        val_correct = 0\n",
    "        val_total = 0\n",
    "        \n",
    "        with torch.no_grad():\n",
    "            for images, labels in tqdm(val_loader, desc=\"Validation\"):\n",
    "                images = images.to(device)\n",
    "                labels = labels.to(device)\n",
    "                \n",
    "                outputs = model(images)\n",
    "                loss = criterion(outputs, labels)\n",
    "                \n",
    "                val_loss += loss.item()\n",
    "                _, predicted = torch.max(outputs.data, 1)\n",
    "                val_total += labels.size(0)\n",
    "                val_correct += (predicted == labels).sum().item()\n",
    "        \n",
    "        avg_val_loss = val_loss / len(val_loader)\n",
    "        val_acc = 100 * val_correct / val_total\n",
    "        \n",
    "        print(f\"Train Loss: {avg_train_loss:.4f}, Train Acc: {train_acc:.2f}%\")\n",
    "        print(f\"Val Loss: {avg_val_loss:.4f}, Val Acc: {val_acc:.2f}%\")\n",
    "        \n",
    "        train_losses.append(avg_train_loss)\n",
    "        train_accs.append(train_acc)\n",
    "        val_losses.append(avg_val_loss)\n",
    "        val_accs.append(val_acc)\n",
    "        \n",
    "        # Save best model\n",
    "        if val_acc > best_val_acc:\n",
    "            best_val_acc = val_acc\n",
    "            torch.save(model.state_dict(), f'best_{model_name}_model.pth')\n",
    "            print(f\"Saved best model with validation accuracy: {best_val_acc:.2f}%\")\n",
    "    \n",
    "    return {\n",
    "        'train_losses': train_losses,\n",
    "        'train_accs': train_accs,\n",
    "        'val_losses': val_losses,\n",
    "        'val_accs': val_accs,\n",
    "        'best_val_acc': best_val_acc\n",
    "    }\n"
   ]
  },
  {
   "cell_type": "code",
   "execution_count": 20,
   "id": "c56c762b",
   "metadata": {},
   "outputs": [],
   "source": [
    "def evaluate_model(model, test_loader, celebrity_to_label, model_name):\n",
    "    \"\"\"Evaluate model on test set\"\"\"\n",
    "    \n",
    "    model.eval()\n",
    "    test_correct = 0\n",
    "    test_total = 0\n",
    "    test_preds = []\n",
    "    test_labels = []\n",
    "    \n",
    "    with torch.no_grad():\n",
    "        for images, labels in tqdm(test_loader, desc=f\"Testing {model_name}\"):\n",
    "            images = images.to(device)\n",
    "            labels = labels.to(device)\n",
    "            \n",
    "            outputs = model(images)\n",
    "            _, predicted = torch.max(outputs.data, 1)\n",
    "            \n",
    "            test_total += labels.size(0)\n",
    "            test_correct += (predicted == labels).sum().item()\n",
    "            \n",
    "            test_preds.extend(predicted.cpu().numpy())\n",
    "            test_labels.extend(labels.cpu().numpy())\n",
    "    \n",
    "    test_acc = 100 * test_correct / test_total\n",
    "    \n",
    "    # Check celebrity 10173 performance\n",
    "    celeb_10173_acc = None\n",
    "    if 10173 in celebrity_to_label:\n",
    "        label_10173 = celebrity_to_label[10173]\n",
    "        mask = np.array(test_labels) == label_10173\n",
    "        if mask.sum() > 0:\n",
    "            correct_10173 = (np.array(test_preds)[mask] == label_10173).sum()\n",
    "            total_10173 = mask.sum()\n",
    "            celeb_10173_acc = 100 * correct_10173 / total_10173\n",
    "    \n",
    "    return test_acc, celeb_10173_acc"
   ]
  },
  {
   "cell_type": "code",
   "execution_count": 21,
   "id": "360a51a9",
   "metadata": {},
   "outputs": [
    {
     "name": "stdout",
     "output_type": "stream",
     "text": [
      "Loading data...\n",
      "Added celebrity 10173 to the list\n",
      "\n",
      "Using 20 celebrities\n",
      "Total images: 638\n",
      "Celebrity 10173: 30 images (label=19)\n",
      "\n",
      "Data split:\n",
      "Train: 408\n",
      "Val: 102\n",
      "Test: 128\n",
      "\n",
      "============================================================\n",
      "Training resnet18 (Freeze backbone: True)\n",
      "============================================================\n"
     ]
    },
    {
     "name": "stderr",
     "output_type": "stream",
     "text": [
      "/opt/anaconda3/lib/python3.11/site-packages/torchvision/models/_utils.py:208: UserWarning: The parameter 'pretrained' is deprecated since 0.13 and may be removed in the future, please use 'weights' instead.\n",
      "  warnings.warn(\n",
      "/opt/anaconda3/lib/python3.11/site-packages/torchvision/models/_utils.py:223: UserWarning: Arguments other than a weight enum or `None` for 'weights' are deprecated since 0.13 and may be removed in the future. The current behavior is equivalent to passing `weights=ResNet18_Weights.IMAGENET1K_V1`. You can also use `weights=ResNet18_Weights.DEFAULT` to get the most up-to-date weights.\n",
      "  warnings.warn(msg)\n",
      "Downloading: \"https://download.pytorch.org/models/resnet18-f37072fd.pth\" to /Users/regata3010/.cache/torch/hub/checkpoints/resnet18-f37072fd.pth\n",
      "100%|██████████| 44.7M/44.7M [00:01<00:00, 39.1MB/s]\n"
     ]
    },
    {
     "name": "stdout",
     "output_type": "stream",
     "text": [
      "\n",
      "Epoch 1/10 - resnet18\n"
     ]
    },
    {
     "name": "stderr",
     "output_type": "stream",
     "text": [
      "Training: 100%|██████████| 13/13 [00:05<00:00,  2.54it/s]\n",
      "Validation: 100%|██████████| 4/4 [00:00<00:00,  4.72it/s]\n"
     ]
    },
    {
     "name": "stdout",
     "output_type": "stream",
     "text": [
      "Train Loss: 3.0740, Train Acc: 8.09%\n",
      "Val Loss: 2.7502, Val Acc: 15.69%\n",
      "Saved best model with validation accuracy: 15.69%\n",
      "\n",
      "Epoch 2/10 - resnet18\n"
     ]
    },
    {
     "name": "stderr",
     "output_type": "stream",
     "text": [
      "Training: 100%|██████████| 13/13 [00:00<00:00, 14.10it/s]\n",
      "Validation: 100%|██████████| 4/4 [00:00<00:00, 18.57it/s]\n"
     ]
    },
    {
     "name": "stdout",
     "output_type": "stream",
     "text": [
      "Train Loss: 2.5641, Train Acc: 24.02%\n",
      "Val Loss: 2.4301, Val Acc: 29.41%\n",
      "Saved best model with validation accuracy: 29.41%\n",
      "\n",
      "Epoch 3/10 - resnet18\n"
     ]
    },
    {
     "name": "stderr",
     "output_type": "stream",
     "text": [
      "Training: 100%|██████████| 13/13 [00:00<00:00, 13.67it/s]\n",
      "Validation: 100%|██████████| 4/4 [00:00<00:00, 18.34it/s]\n"
     ]
    },
    {
     "name": "stdout",
     "output_type": "stream",
     "text": [
      "Train Loss: 2.1783, Train Acc: 46.08%\n",
      "Val Loss: 2.1865, Val Acc: 50.98%\n",
      "Saved best model with validation accuracy: 50.98%\n",
      "\n",
      "Epoch 4/10 - resnet18\n"
     ]
    },
    {
     "name": "stderr",
     "output_type": "stream",
     "text": [
      "Training: 100%|██████████| 13/13 [00:00<00:00, 14.13it/s]\n",
      "Validation: 100%|██████████| 4/4 [00:00<00:00, 18.56it/s]\n"
     ]
    },
    {
     "name": "stdout",
     "output_type": "stream",
     "text": [
      "Train Loss: 1.9329, Train Acc: 56.37%\n",
      "Val Loss: 1.9724, Val Acc: 51.96%\n",
      "Saved best model with validation accuracy: 51.96%\n",
      "\n",
      "Epoch 5/10 - resnet18\n"
     ]
    },
    {
     "name": "stderr",
     "output_type": "stream",
     "text": [
      "Training: 100%|██████████| 13/13 [00:00<00:00, 14.13it/s]\n",
      "Validation: 100%|██████████| 4/4 [00:00<00:00, 17.09it/s]\n"
     ]
    },
    {
     "name": "stdout",
     "output_type": "stream",
     "text": [
      "Train Loss: 1.6627, Train Acc: 70.34%\n",
      "Val Loss: 1.8299, Val Acc: 59.80%\n",
      "Saved best model with validation accuracy: 59.80%\n",
      "\n",
      "Epoch 6/10 - resnet18\n"
     ]
    },
    {
     "name": "stderr",
     "output_type": "stream",
     "text": [
      "Training: 100%|██████████| 13/13 [00:00<00:00, 14.20it/s]\n",
      "Validation: 100%|██████████| 4/4 [00:00<00:00, 18.52it/s]\n"
     ]
    },
    {
     "name": "stdout",
     "output_type": "stream",
     "text": [
      "Train Loss: 1.4384, Train Acc: 78.92%\n",
      "Val Loss: 1.7081, Val Acc: 64.71%\n",
      "Saved best model with validation accuracy: 64.71%\n",
      "\n",
      "Epoch 7/10 - resnet18\n"
     ]
    },
    {
     "name": "stderr",
     "output_type": "stream",
     "text": [
      "Training: 100%|██████████| 13/13 [00:00<00:00, 14.14it/s]\n",
      "Validation: 100%|██████████| 4/4 [00:00<00:00, 18.14it/s]\n"
     ]
    },
    {
     "name": "stdout",
     "output_type": "stream",
     "text": [
      "Train Loss: 1.3268, Train Acc: 81.13%\n",
      "Val Loss: 1.5721, Val Acc: 65.69%\n",
      "Saved best model with validation accuracy: 65.69%\n",
      "\n",
      "Epoch 8/10 - resnet18\n"
     ]
    },
    {
     "name": "stderr",
     "output_type": "stream",
     "text": [
      "Training: 100%|██████████| 13/13 [00:00<00:00, 14.20it/s]\n",
      "Validation: 100%|██████████| 4/4 [00:00<00:00, 18.71it/s]\n"
     ]
    },
    {
     "name": "stdout",
     "output_type": "stream",
     "text": [
      "Train Loss: 1.1603, Train Acc: 82.60%\n",
      "Val Loss: 1.5296, Val Acc: 67.65%\n",
      "Saved best model with validation accuracy: 67.65%\n",
      "\n",
      "Epoch 9/10 - resnet18\n"
     ]
    },
    {
     "name": "stderr",
     "output_type": "stream",
     "text": [
      "Training: 100%|██████████| 13/13 [00:00<00:00, 14.19it/s]\n",
      "Validation: 100%|██████████| 4/4 [00:00<00:00, 18.32it/s]\n"
     ]
    },
    {
     "name": "stdout",
     "output_type": "stream",
     "text": [
      "Train Loss: 1.0400, Train Acc: 87.01%\n",
      "Val Loss: 1.4261, Val Acc: 70.59%\n",
      "Saved best model with validation accuracy: 70.59%\n",
      "\n",
      "Epoch 10/10 - resnet18\n"
     ]
    },
    {
     "name": "stderr",
     "output_type": "stream",
     "text": [
      "Training: 100%|██████████| 13/13 [00:00<00:00, 14.12it/s]\n",
      "Validation: 100%|██████████| 4/4 [00:00<00:00, 18.70it/s]\n"
     ]
    },
    {
     "name": "stdout",
     "output_type": "stream",
     "text": [
      "Train Loss: 0.9523, Train Acc: 88.48%\n",
      "Val Loss: 1.3745, Val Acc: 67.65%\n"
     ]
    },
    {
     "name": "stderr",
     "output_type": "stream",
     "text": [
      "Testing resnet18: 100%|██████████| 4/4 [00:00<00:00, 13.03it/s]\n",
      "/opt/anaconda3/lib/python3.11/site-packages/torchvision/models/_utils.py:223: UserWarning: Arguments other than a weight enum or `None` for 'weights' are deprecated since 0.13 and may be removed in the future. The current behavior is equivalent to passing `weights=ResNet50_Weights.IMAGENET1K_V1`. You can also use `weights=ResNet50_Weights.DEFAULT` to get the most up-to-date weights.\n",
      "  warnings.warn(msg)\n"
     ]
    },
    {
     "name": "stdout",
     "output_type": "stream",
     "text": [
      "\n",
      "Results for resnet18:\n",
      "Best Validation Accuracy: 70.59%\n",
      "Test Accuracy: 62.50%\n",
      "Celebrity 10173 Accuracy: 50.00%\n",
      "Training Time: 16.78 seconds\n",
      "\n",
      "============================================================\n",
      "Training resnet50 (Freeze backbone: True)\n",
      "============================================================\n"
     ]
    },
    {
     "name": "stderr",
     "output_type": "stream",
     "text": [
      "Downloading: \"https://download.pytorch.org/models/resnet50-0676ba61.pth\" to /Users/regata3010/.cache/torch/hub/checkpoints/resnet50-0676ba61.pth\n",
      "100%|██████████| 97.8M/97.8M [00:02<00:00, 50.0MB/s]\n"
     ]
    },
    {
     "name": "stdout",
     "output_type": "stream",
     "text": [
      "\n",
      "Epoch 1/10 - resnet50\n"
     ]
    },
    {
     "name": "stderr",
     "output_type": "stream",
     "text": [
      "Training: 100%|██████████| 13/13 [00:02<00:00,  4.65it/s]\n",
      "Validation: 100%|██████████| 4/4 [00:00<00:00,  4.95it/s]\n"
     ]
    },
    {
     "name": "stdout",
     "output_type": "stream",
     "text": [
      "Train Loss: 3.0102, Train Acc: 11.76%\n",
      "Val Loss: 2.6267, Val Acc: 13.73%\n",
      "Saved best model with validation accuracy: 13.73%\n",
      "\n",
      "Epoch 2/10 - resnet50\n"
     ]
    },
    {
     "name": "stderr",
     "output_type": "stream",
     "text": [
      "Training: 100%|██████████| 13/13 [00:02<00:00,  5.55it/s]\n",
      "Validation: 100%|██████████| 4/4 [00:00<00:00,  7.78it/s]\n"
     ]
    },
    {
     "name": "stdout",
     "output_type": "stream",
     "text": [
      "Train Loss: 2.4017, Train Acc: 32.60%\n",
      "Val Loss: 2.2841, Val Acc: 39.22%\n",
      "Saved best model with validation accuracy: 39.22%\n",
      "\n",
      "Epoch 3/10 - resnet50\n"
     ]
    },
    {
     "name": "stderr",
     "output_type": "stream",
     "text": [
      "Training: 100%|██████████| 13/13 [00:02<00:00,  5.52it/s]\n",
      "Validation: 100%|██████████| 4/4 [00:00<00:00,  7.72it/s]\n"
     ]
    },
    {
     "name": "stdout",
     "output_type": "stream",
     "text": [
      "Train Loss: 1.9401, Train Acc: 51.23%\n",
      "Val Loss: 2.0054, Val Acc: 46.08%\n",
      "Saved best model with validation accuracy: 46.08%\n",
      "\n",
      "Epoch 4/10 - resnet50\n"
     ]
    },
    {
     "name": "stderr",
     "output_type": "stream",
     "text": [
      "Training: 100%|██████████| 13/13 [00:02<00:00,  5.51it/s]\n",
      "Validation: 100%|██████████| 4/4 [00:00<00:00,  7.70it/s]\n"
     ]
    },
    {
     "name": "stdout",
     "output_type": "stream",
     "text": [
      "Train Loss: 1.6117, Train Acc: 66.67%\n",
      "Val Loss: 1.7918, Val Acc: 50.98%\n",
      "Saved best model with validation accuracy: 50.98%\n",
      "\n",
      "Epoch 5/10 - resnet50\n"
     ]
    },
    {
     "name": "stderr",
     "output_type": "stream",
     "text": [
      "Training: 100%|██████████| 13/13 [00:02<00:00,  5.53it/s]\n",
      "Validation: 100%|██████████| 4/4 [00:00<00:00,  7.55it/s]\n"
     ]
    },
    {
     "name": "stdout",
     "output_type": "stream",
     "text": [
      "Train Loss: 1.3266, Train Acc: 76.47%\n",
      "Val Loss: 1.7022, Val Acc: 53.92%\n",
      "Saved best model with validation accuracy: 53.92%\n",
      "\n",
      "Epoch 6/10 - resnet50\n"
     ]
    },
    {
     "name": "stderr",
     "output_type": "stream",
     "text": [
      "Training: 100%|██████████| 13/13 [00:02<00:00,  5.48it/s]\n",
      "Validation: 100%|██████████| 4/4 [00:00<00:00,  7.78it/s]\n"
     ]
    },
    {
     "name": "stdout",
     "output_type": "stream",
     "text": [
      "Train Loss: 1.1599, Train Acc: 78.68%\n",
      "Val Loss: 1.5610, Val Acc: 56.86%\n",
      "Saved best model with validation accuracy: 56.86%\n",
      "\n",
      "Epoch 7/10 - resnet50\n"
     ]
    },
    {
     "name": "stderr",
     "output_type": "stream",
     "text": [
      "Training: 100%|██████████| 13/13 [00:02<00:00,  5.56it/s]\n",
      "Validation: 100%|██████████| 4/4 [00:00<00:00,  7.80it/s]\n"
     ]
    },
    {
     "name": "stdout",
     "output_type": "stream",
     "text": [
      "Train Loss: 1.0603, Train Acc: 81.13%\n",
      "Val Loss: 1.5512, Val Acc: 60.78%\n",
      "Saved best model with validation accuracy: 60.78%\n",
      "\n",
      "Epoch 8/10 - resnet50\n"
     ]
    },
    {
     "name": "stderr",
     "output_type": "stream",
     "text": [
      "Training: 100%|██████████| 13/13 [00:02<00:00,  5.57it/s]\n",
      "Validation: 100%|██████████| 4/4 [00:00<00:00,  7.68it/s]\n"
     ]
    },
    {
     "name": "stdout",
     "output_type": "stream",
     "text": [
      "Train Loss: 0.9346, Train Acc: 83.58%\n",
      "Val Loss: 1.4127, Val Acc: 63.73%\n",
      "Saved best model with validation accuracy: 63.73%\n",
      "\n",
      "Epoch 9/10 - resnet50\n"
     ]
    },
    {
     "name": "stderr",
     "output_type": "stream",
     "text": [
      "Training: 100%|██████████| 13/13 [00:02<00:00,  5.49it/s]\n",
      "Validation: 100%|██████████| 4/4 [00:00<00:00,  7.74it/s]\n"
     ]
    },
    {
     "name": "stdout",
     "output_type": "stream",
     "text": [
      "Train Loss: 0.8085, Train Acc: 90.69%\n",
      "Val Loss: 1.3493, Val Acc: 63.73%\n",
      "\n",
      "Epoch 10/10 - resnet50\n"
     ]
    },
    {
     "name": "stderr",
     "output_type": "stream",
     "text": [
      "Training: 100%|██████████| 13/13 [00:02<00:00,  5.58it/s]\n",
      "Validation: 100%|██████████| 4/4 [00:00<00:00,  7.65it/s]\n"
     ]
    },
    {
     "name": "stdout",
     "output_type": "stream",
     "text": [
      "Train Loss: 0.7164, Train Acc: 91.18%\n",
      "Val Loss: 1.3414, Val Acc: 62.75%\n"
     ]
    },
    {
     "name": "stderr",
     "output_type": "stream",
     "text": [
      "Testing resnet50: 100%|██████████| 4/4 [00:00<00:00,  5.24it/s]\n",
      "/opt/anaconda3/lib/python3.11/site-packages/torchvision/models/_utils.py:223: UserWarning: Arguments other than a weight enum or `None` for 'weights' are deprecated since 0.13 and may be removed in the future. The current behavior is equivalent to passing `weights=MobileNet_V2_Weights.IMAGENET1K_V1`. You can also use `weights=MobileNet_V2_Weights.DEFAULT` to get the most up-to-date weights.\n",
      "  warnings.warn(msg)\n",
      "Downloading: \"https://download.pytorch.org/models/mobilenet_v2-b0353104.pth\" to /Users/regata3010/.cache/torch/hub/checkpoints/mobilenet_v2-b0353104.pth\n"
     ]
    },
    {
     "name": "stdout",
     "output_type": "stream",
     "text": [
      "\n",
      "Results for resnet50:\n",
      "Best Validation Accuracy: 63.73%\n",
      "Test Accuracy: 61.72%\n",
      "Celebrity 10173 Accuracy: 83.33%\n",
      "Training Time: 30.49 seconds\n",
      "\n",
      "============================================================\n",
      "Training mobilenet_v2 (Freeze backbone: True)\n",
      "============================================================\n"
     ]
    },
    {
     "name": "stderr",
     "output_type": "stream",
     "text": [
      "100%|██████████| 13.6M/13.6M [00:00<00:00, 34.1MB/s]\n"
     ]
    },
    {
     "name": "stdout",
     "output_type": "stream",
     "text": [
      "\n",
      "Epoch 1/10 - mobilenet_v2\n"
     ]
    },
    {
     "name": "stderr",
     "output_type": "stream",
     "text": [
      "Training: 100%|██████████| 13/13 [00:02<00:00,  6.39it/s]\n",
      "Validation: 100%|██████████| 4/4 [00:00<00:00,  6.61it/s]\n"
     ]
    },
    {
     "name": "stdout",
     "output_type": "stream",
     "text": [
      "Train Loss: 2.9712, Train Acc: 7.11%\n",
      "Val Loss: 2.6800, Val Acc: 20.59%\n",
      "Saved best model with validation accuracy: 20.59%\n",
      "\n",
      "Epoch 2/10 - mobilenet_v2\n"
     ]
    },
    {
     "name": "stderr",
     "output_type": "stream",
     "text": [
      "Training: 100%|██████████| 13/13 [00:01<00:00, 12.57it/s]\n",
      "Validation: 100%|██████████| 4/4 [00:00<00:00, 17.76it/s]\n"
     ]
    },
    {
     "name": "stdout",
     "output_type": "stream",
     "text": [
      "Train Loss: 2.3164, Train Acc: 38.48%\n",
      "Val Loss: 2.1934, Val Acc: 47.06%\n",
      "Saved best model with validation accuracy: 47.06%\n",
      "\n",
      "Epoch 3/10 - mobilenet_v2\n"
     ]
    },
    {
     "name": "stderr",
     "output_type": "stream",
     "text": [
      "Training: 100%|██████████| 13/13 [00:01<00:00, 12.71it/s]\n",
      "Validation: 100%|██████████| 4/4 [00:00<00:00, 18.29it/s]\n"
     ]
    },
    {
     "name": "stdout",
     "output_type": "stream",
     "text": [
      "Train Loss: 1.8580, Train Acc: 60.78%\n",
      "Val Loss: 1.8921, Val Acc: 50.98%\n",
      "Saved best model with validation accuracy: 50.98%\n",
      "\n",
      "Epoch 4/10 - mobilenet_v2\n"
     ]
    },
    {
     "name": "stderr",
     "output_type": "stream",
     "text": [
      "Training: 100%|██████████| 13/13 [00:01<00:00, 12.46it/s]\n",
      "Validation: 100%|██████████| 4/4 [00:00<00:00, 16.62it/s]\n"
     ]
    },
    {
     "name": "stdout",
     "output_type": "stream",
     "text": [
      "Train Loss: 1.5408, Train Acc: 70.10%\n",
      "Val Loss: 1.6897, Val Acc: 61.76%\n",
      "Saved best model with validation accuracy: 61.76%\n",
      "\n",
      "Epoch 5/10 - mobilenet_v2\n"
     ]
    },
    {
     "name": "stderr",
     "output_type": "stream",
     "text": [
      "Training: 100%|██████████| 13/13 [00:01<00:00, 12.60it/s]\n",
      "Validation: 100%|██████████| 4/4 [00:00<00:00, 15.64it/s]\n"
     ]
    },
    {
     "name": "stdout",
     "output_type": "stream",
     "text": [
      "Train Loss: 1.2988, Train Acc: 79.17%\n",
      "Val Loss: 1.5375, Val Acc: 66.67%\n",
      "Saved best model with validation accuracy: 66.67%\n",
      "\n",
      "Epoch 6/10 - mobilenet_v2\n"
     ]
    },
    {
     "name": "stderr",
     "output_type": "stream",
     "text": [
      "Training: 100%|██████████| 13/13 [00:01<00:00, 12.27it/s]\n",
      "Validation: 100%|██████████| 4/4 [00:00<00:00, 18.61it/s]\n"
     ]
    },
    {
     "name": "stdout",
     "output_type": "stream",
     "text": [
      "Train Loss: 1.1167, Train Acc: 82.84%\n",
      "Val Loss: 1.4321, Val Acc: 63.73%\n",
      "\n",
      "Epoch 7/10 - mobilenet_v2\n"
     ]
    },
    {
     "name": "stderr",
     "output_type": "stream",
     "text": [
      "Training: 100%|██████████| 13/13 [00:01<00:00, 12.49it/s]\n",
      "Validation: 100%|██████████| 4/4 [00:00<00:00, 18.37it/s]\n"
     ]
    },
    {
     "name": "stdout",
     "output_type": "stream",
     "text": [
      "Train Loss: 0.9714, Train Acc: 86.52%\n",
      "Val Loss: 1.3747, Val Acc: 65.69%\n",
      "\n",
      "Epoch 8/10 - mobilenet_v2\n"
     ]
    },
    {
     "name": "stderr",
     "output_type": "stream",
     "text": [
      "Training: 100%|██████████| 13/13 [00:01<00:00, 12.50it/s]\n",
      "Validation: 100%|██████████| 4/4 [00:00<00:00, 17.12it/s]\n"
     ]
    },
    {
     "name": "stdout",
     "output_type": "stream",
     "text": [
      "Train Loss: 0.9116, Train Acc: 86.03%\n",
      "Val Loss: 1.2884, Val Acc: 65.69%\n",
      "\n",
      "Epoch 9/10 - mobilenet_v2\n"
     ]
    },
    {
     "name": "stderr",
     "output_type": "stream",
     "text": [
      "Training: 100%|██████████| 13/13 [00:01<00:00, 12.16it/s]\n",
      "Validation: 100%|██████████| 4/4 [00:00<00:00, 18.15it/s]\n"
     ]
    },
    {
     "name": "stdout",
     "output_type": "stream",
     "text": [
      "Train Loss: 0.8169, Train Acc: 87.01%\n",
      "Val Loss: 1.2579, Val Acc: 68.63%\n",
      "Saved best model with validation accuracy: 68.63%\n",
      "\n",
      "Epoch 10/10 - mobilenet_v2\n"
     ]
    },
    {
     "name": "stderr",
     "output_type": "stream",
     "text": [
      "Training: 100%|██████████| 13/13 [00:01<00:00, 12.53it/s]\n",
      "Validation: 100%|██████████| 4/4 [00:00<00:00, 18.28it/s]\n"
     ]
    },
    {
     "name": "stdout",
     "output_type": "stream",
     "text": [
      "Train Loss: 0.7010, Train Acc: 89.95%\n",
      "Val Loss: 1.2174, Val Acc: 63.73%\n"
     ]
    },
    {
     "name": "stderr",
     "output_type": "stream",
     "text": [
      "Testing mobilenet_v2: 100%|██████████| 4/4 [00:00<00:00, 12.86it/s]\n",
      "/opt/anaconda3/lib/python3.11/site-packages/torchvision/models/_utils.py:223: UserWarning: Arguments other than a weight enum or `None` for 'weights' are deprecated since 0.13 and may be removed in the future. The current behavior is equivalent to passing `weights=EfficientNet_B0_Weights.IMAGENET1K_V1`. You can also use `weights=EfficientNet_B0_Weights.DEFAULT` to get the most up-to-date weights.\n",
      "  warnings.warn(msg)\n",
      "Downloading: \"https://download.pytorch.org/models/efficientnet_b0_rwightman-7f5810bc.pth\" to /Users/regata3010/.cache/torch/hub/checkpoints/efficientnet_b0_rwightman-7f5810bc.pth\n"
     ]
    },
    {
     "name": "stdout",
     "output_type": "stream",
     "text": [
      "\n",
      "Results for mobilenet_v2:\n",
      "Best Validation Accuracy: 68.63%\n",
      "Test Accuracy: 65.62%\n",
      "Celebrity 10173 Accuracy: 50.00%\n",
      "Training Time: 14.41 seconds\n",
      "\n",
      "============================================================\n",
      "Training efficientnet_b0 (Freeze backbone: True)\n",
      "============================================================\n"
     ]
    },
    {
     "name": "stderr",
     "output_type": "stream",
     "text": [
      "100%|██████████| 20.5M/20.5M [00:00<00:00, 37.3MB/s]\n"
     ]
    },
    {
     "name": "stdout",
     "output_type": "stream",
     "text": [
      "\n",
      "Epoch 1/10 - efficientnet_b0\n"
     ]
    },
    {
     "name": "stderr",
     "output_type": "stream",
     "text": [
      "Training: 100%|██████████| 13/13 [00:02<00:00,  4.77it/s]\n",
      "Validation: 100%|██████████| 4/4 [00:00<00:00,  5.34it/s]\n"
     ]
    },
    {
     "name": "stdout",
     "output_type": "stream",
     "text": [
      "Train Loss: 2.9084, Train Acc: 11.27%\n",
      "Val Loss: 2.6749, Val Acc: 38.24%\n",
      "Saved best model with validation accuracy: 38.24%\n",
      "\n",
      "Epoch 2/10 - efficientnet_b0\n"
     ]
    },
    {
     "name": "stderr",
     "output_type": "stream",
     "text": [
      "Training: 100%|██████████| 13/13 [00:01<00:00, 10.69it/s]\n",
      "Validation: 100%|██████████| 4/4 [00:00<00:00, 15.57it/s]\n"
     ]
    },
    {
     "name": "stdout",
     "output_type": "stream",
     "text": [
      "Train Loss: 2.3920, Train Acc: 53.68%\n",
      "Val Loss: 2.3334, Val Acc: 49.02%\n",
      "Saved best model with validation accuracy: 49.02%\n",
      "\n",
      "Epoch 3/10 - efficientnet_b0\n"
     ]
    },
    {
     "name": "stderr",
     "output_type": "stream",
     "text": [
      "Training: 100%|██████████| 13/13 [00:01<00:00, 10.86it/s]\n",
      "Validation: 100%|██████████| 4/4 [00:00<00:00, 15.59it/s]\n"
     ]
    },
    {
     "name": "stdout",
     "output_type": "stream",
     "text": [
      "Train Loss: 1.9857, Train Acc: 75.25%\n",
      "Val Loss: 2.0820, Val Acc: 52.94%\n",
      "Saved best model with validation accuracy: 52.94%\n",
      "\n",
      "Epoch 4/10 - efficientnet_b0\n"
     ]
    },
    {
     "name": "stderr",
     "output_type": "stream",
     "text": [
      "Training: 100%|██████████| 13/13 [00:01<00:00, 10.88it/s]\n",
      "Validation: 100%|██████████| 4/4 [00:00<00:00, 15.47it/s]\n"
     ]
    },
    {
     "name": "stdout",
     "output_type": "stream",
     "text": [
      "Train Loss: 1.6971, Train Acc: 84.56%\n",
      "Val Loss: 1.8884, Val Acc: 60.78%\n",
      "Saved best model with validation accuracy: 60.78%\n",
      "\n",
      "Epoch 5/10 - efficientnet_b0\n"
     ]
    },
    {
     "name": "stderr",
     "output_type": "stream",
     "text": [
      "Training: 100%|██████████| 13/13 [00:01<00:00, 10.75it/s]\n",
      "Validation: 100%|██████████| 4/4 [00:00<00:00, 15.76it/s]\n"
     ]
    },
    {
     "name": "stdout",
     "output_type": "stream",
     "text": [
      "Train Loss: 1.4218, Train Acc: 88.24%\n",
      "Val Loss: 1.7357, Val Acc: 63.73%\n",
      "Saved best model with validation accuracy: 63.73%\n",
      "\n",
      "Epoch 6/10 - efficientnet_b0\n"
     ]
    },
    {
     "name": "stderr",
     "output_type": "stream",
     "text": [
      "Training: 100%|██████████| 13/13 [00:01<00:00, 10.84it/s]\n",
      "Validation: 100%|██████████| 4/4 [00:00<00:00, 15.42it/s]\n"
     ]
    },
    {
     "name": "stdout",
     "output_type": "stream",
     "text": [
      "Train Loss: 1.2411, Train Acc: 90.93%\n",
      "Val Loss: 1.6264, Val Acc: 61.76%\n",
      "\n",
      "Epoch 7/10 - efficientnet_b0\n"
     ]
    },
    {
     "name": "stderr",
     "output_type": "stream",
     "text": [
      "Training: 100%|██████████| 13/13 [00:01<00:00, 10.48it/s]\n",
      "Validation: 100%|██████████| 4/4 [00:00<00:00, 15.71it/s]\n"
     ]
    },
    {
     "name": "stdout",
     "output_type": "stream",
     "text": [
      "Train Loss: 1.0831, Train Acc: 91.42%\n",
      "Val Loss: 1.5534, Val Acc: 65.69%\n",
      "Saved best model with validation accuracy: 65.69%\n",
      "\n",
      "Epoch 8/10 - efficientnet_b0\n"
     ]
    },
    {
     "name": "stderr",
     "output_type": "stream",
     "text": [
      "Training: 100%|██████████| 13/13 [00:01<00:00, 10.87it/s]\n",
      "Validation: 100%|██████████| 4/4 [00:00<00:00, 15.56it/s]\n"
     ]
    },
    {
     "name": "stdout",
     "output_type": "stream",
     "text": [
      "Train Loss: 0.9366, Train Acc: 95.59%\n",
      "Val Loss: 1.4683, Val Acc: 66.67%\n",
      "Saved best model with validation accuracy: 66.67%\n",
      "\n",
      "Epoch 9/10 - efficientnet_b0\n"
     ]
    },
    {
     "name": "stderr",
     "output_type": "stream",
     "text": [
      "Training: 100%|██████████| 13/13 [00:01<00:00, 10.71it/s]\n",
      "Validation: 100%|██████████| 4/4 [00:00<00:00, 15.62it/s]\n"
     ]
    },
    {
     "name": "stdout",
     "output_type": "stream",
     "text": [
      "Train Loss: 0.8392, Train Acc: 96.32%\n",
      "Val Loss: 1.4041, Val Acc: 63.73%\n",
      "\n",
      "Epoch 10/10 - efficientnet_b0\n"
     ]
    },
    {
     "name": "stderr",
     "output_type": "stream",
     "text": [
      "Training: 100%|██████████| 13/13 [00:01<00:00, 10.37it/s]\n",
      "Validation: 100%|██████████| 4/4 [00:00<00:00, 15.78it/s]\n"
     ]
    },
    {
     "name": "stdout",
     "output_type": "stream",
     "text": [
      "Train Loss: 0.7599, Train Acc: 95.34%\n",
      "Val Loss: 1.3898, Val Acc: 64.71%\n"
     ]
    },
    {
     "name": "stderr",
     "output_type": "stream",
     "text": [
      "Testing efficientnet_b0: 100%|██████████| 4/4 [00:00<00:00, 11.41it/s]\n"
     ]
    },
    {
     "name": "stdout",
     "output_type": "stream",
     "text": [
      "\n",
      "Results for efficientnet_b0:\n",
      "Best Validation Accuracy: 66.67%\n",
      "Test Accuracy: 71.09%\n",
      "Celebrity 10173 Accuracy: 33.33%\n",
      "Training Time: 17.18 seconds\n"
     ]
    },
    {
     "data": {
      "image/png": "[encoded data removed]",
      "text/plain": [
       "<Figure size 1500x1200 with 4 Axes>"
      ]
     },
     "metadata": {},
     "output_type": "display_data"
    },
    {
     "name": "stdout",
     "output_type": "stream",
     "text": [
      "\n",
      "================================================================================\n",
      "FINAL RESULTS SUMMARY\n",
      "================================================================================\n",
      "Model                Val Acc      Test Acc     10173 Acc    Time (s)  \n",
      "--------------------------------------------------------------------------------\n",
      "resnet18             70.59%       62.50%       50.00%       16.8\n",
      "resnet50             63.73%       61.72%       83.33%       30.5\n",
      "mobilenet_v2         68.63%       65.62%       50.00%       14.4\n",
      "efficientnet_b0      66.67%       71.09%       33.33%       17.2\n",
      "================================================================================\n",
      "\n",
      "All models saved with prefix 'best_[model_name]_model.pth'\n",
      "Comparison plot saved as 'transfer_learning_comparison.png'\n"
     ]
    }
   ],
   "source": [
    "def main():\n",
    "    \n",
    "    print(\"Loading data...\")\n",
    "    identity_df = pd.read_csv(IDENTITY_FILE, sep=' ', header=None, names=['image', 'identity'])\n",
    "    \n",
    "    # Get top N celebrities\n",
    "    celebrity_counts = identity_df['identity'].value_counts()\n",
    "    top_celebrities = celebrity_counts.head(NUM_CELEBRITIES).index.tolist()\n",
    "    \n",
    "    # Ensure celebrity 10173 is included\n",
    "    if 10173 in celebrity_counts.index and 10173 not in top_celebrities:\n",
    "        top_celebrities[-1] = 10173\n",
    "        print(\"Added celebrity 10173 to the list\")\n",
    "    \n",
    "    # Filter and label data\n",
    "    mask = identity_df['identity'].isin(top_celebrities)\n",
    "    filtered_df = identity_df[mask].copy()\n",
    "    \n",
    "    celebrity_to_label = {celeb: idx for idx, celeb in enumerate(sorted(top_celebrities))}\n",
    "    filtered_df['label'] = filtered_df['identity'].map(celebrity_to_label)\n",
    "    \n",
    "    print(f\"\\nUsing {NUM_CELEBRITIES} celebrities\")\n",
    "    print(f\"Total images: {len(filtered_df)}\")\n",
    "    \n",
    "    if 10173 in celebrity_to_label:\n",
    "        count_10173 = (filtered_df['identity'] == 10173).sum()\n",
    "        print(f\"Celebrity 10173: {count_10173} images (label={celebrity_to_label[10173]})\")\n",
    "    \n",
    "    # Split data\n",
    "    image_names = filtered_df['image'].tolist()\n",
    "    labels = filtered_df['label'].tolist()\n",
    "    \n",
    "    X_train, X_test, y_train, y_test = train_test_split(\n",
    "        image_names, labels, test_size=0.2, random_state=42, stratify=labels\n",
    "    )\n",
    "    X_train, X_val, y_train, y_val = train_test_split(\n",
    "        X_train, y_train, test_size=0.2, random_state=42, stratify=y_train\n",
    "    )\n",
    "    \n",
    "    print(f\"\\nData split:\")\n",
    "    print(f\"Train: {len(X_train)}\")\n",
    "    print(f\"Val: {len(X_val)}\")\n",
    "    print(f\"Test: {len(X_test)}\")\n",
    "    \n",
    "    # Data transforms for pre-trained models\n",
    "    transform_train = transforms.Compose([\n",
    "        transforms.Resize((IMAGE_SIZE, IMAGE_SIZE)),\n",
    "        transforms.RandomHorizontalFlip(p=0.5),\n",
    "        transforms.ToTensor(),\n",
    "        transforms.Normalize([0.485, 0.456, 0.406], [0.229, 0.224, 0.225])\n",
    "    ])\n",
    "    \n",
    "    transform_val = transforms.Compose([\n",
    "        transforms.Resize((IMAGE_SIZE, IMAGE_SIZE)),\n",
    "        transforms.ToTensor(),\n",
    "        transforms.Normalize([0.485, 0.456, 0.406], [0.229, 0.224, 0.225])\n",
    "    ])\n",
    "    \n",
    "    # Create datasets\n",
    "    train_dataset = CelebADataset(X_train, y_train, IMG_DIR, transform_train)\n",
    "    val_dataset = CelebADataset(X_val, y_val, IMG_DIR, transform_val)\n",
    "    test_dataset = CelebADataset(X_test, y_test, IMG_DIR, transform_val)\n",
    "    \n",
    "    # Create data loaders\n",
    "    train_loader = DataLoader(train_dataset, batch_size=BATCH_SIZE, shuffle=True, num_workers=0)\n",
    "    val_loader = DataLoader(val_dataset, batch_size=BATCH_SIZE, shuffle=False, num_workers=0)\n",
    "    test_loader = DataLoader(test_dataset, batch_size=BATCH_SIZE, shuffle=False, num_workers=0)\n",
    "    \n",
    "    # Models to train\n",
    "    model_configs = [\n",
    "        {'name': 'resnet18', 'freeze': True},\n",
    "        {'name': 'resnet50', 'freeze': True},\n",
    "        {'name': 'mobilenet_v2', 'freeze': True},\n",
    "        {'name': 'efficientnet_b0', 'freeze': True},\n",
    "    ]\n",
    "    \n",
    "    results = {}\n",
    "    \n",
    "    # Train each model\n",
    "    for config in model_configs:\n",
    "        model_name = config['name']\n",
    "        freeze_backbone = config['freeze']\n",
    "        \n",
    "        print(f\"\\n{'='*60}\")\n",
    "        print(f\"Training {model_name} (Freeze backbone: {freeze_backbone})\")\n",
    "        print('='*60)\n",
    "        \n",
    "        # Create model\n",
    "        model = TransferLearningModel(model_name, NUM_CELEBRITIES, freeze_backbone)\n",
    "        model = model.to(device)\n",
    "        \n",
    "        # Setup training\n",
    "        criterion = nn.CrossEntropyLoss()\n",
    "        optimizer = optim.Adam(filter(lambda p: p.requires_grad, model.parameters()), \n",
    "                               lr=LEARNING_RATE)\n",
    "        \n",
    "        # Train model\n",
    "        start_time = time.time()\n",
    "        history = train_model(model, train_loader, val_loader, criterion, \n",
    "                            optimizer, NUM_EPOCHS, model_name)\n",
    "        training_time = time.time() - start_time\n",
    "        \n",
    "        # Evaluate on test set\n",
    "        test_acc, celeb_10173_acc = evaluate_model(model, test_loader, \n",
    "                                                   celebrity_to_label, model_name)\n",
    "        \n",
    "        # Store results\n",
    "        results[model_name] = {\n",
    "            'history': history,\n",
    "            'test_acc': test_acc,\n",
    "            'celeb_10173_acc': celeb_10173_acc,\n",
    "            'training_time': training_time,\n",
    "            'best_val_acc': history['best_val_acc']\n",
    "        }\n",
    "        \n",
    "        print(f\"\\nResults for {model_name}:\")\n",
    "        print(f\"Best Validation Accuracy: {history['best_val_acc']:.2f}%\")\n",
    "        print(f\"Test Accuracy: {test_acc:.2f}%\")\n",
    "        if celeb_10173_acc is not None:\n",
    "            print(f\"Celebrity 10173 Accuracy: {celeb_10173_acc:.2f}%\")\n",
    "        print(f\"Training Time: {training_time:.2f} seconds\")\n",
    "    \n",
    "    # Create comparison plots\n",
    "    fig, axes = plt.subplots(2, 2, figsize=(15, 12))\n",
    "    \n",
    "    # Plot 1: Training Accuracy Comparison\n",
    "    ax1 = axes[0, 0]\n",
    "    for model_name in results:\n",
    "        ax1.plot(range(1, NUM_EPOCHS+1), \n",
    "                results[model_name]['history']['train_accs'], \n",
    "                label=f'{model_name} (train)', linestyle='--', alpha=0.7)\n",
    "        ax1.plot(range(1, NUM_EPOCHS+1), \n",
    "                results[model_name]['history']['val_accs'], \n",
    "                label=f'{model_name} (val)', linewidth=2)\n",
    "    ax1.set_xlabel('Epoch')\n",
    "    ax1.set_ylabel('Accuracy (%)')\n",
    "    ax1.set_title('Model Accuracy Comparison')\n",
    "    ax1.legend(bbox_to_anchor=(1.05, 1), loc='upper left')\n",
    "    ax1.grid(True)\n",
    "    \n",
    "    # Plot 2: Test Accuracy Bar Chart\n",
    "    ax2 = axes[0, 1]\n",
    "    model_names = list(results.keys())\n",
    "    test_accs = [results[m]['test_acc'] for m in model_names]\n",
    "    bars = ax2.bar(model_names, test_accs, color=['blue', 'green', 'red', 'purple'][:len(model_names)])\n",
    "    ax2.set_ylabel('Test Accuracy (%)')\n",
    "    ax2.set_title('Test Accuracy Comparison')\n",
    "    ax2.grid(True, alpha=0.3)\n",
    "    \n",
    "    # Add value labels on bars\n",
    "    for bar in bars:\n",
    "        height = bar.get_height()\n",
    "        ax2.text(bar.get_x() + bar.get_width()/2., height,\n",
    "                f'{height:.1f}%', ha='center', va='bottom')\n",
    "    \n",
    "    # Plot 3: Celebrity 10173 Accuracy\n",
    "    if any(results[m]['celeb_10173_acc'] is not None for m in model_names):\n",
    "        ax3 = axes[1, 0]\n",
    "        celeb_accs = [results[m]['celeb_10173_acc'] if results[m]['celeb_10173_acc'] is not None else 0 \n",
    "                     for m in model_names]\n",
    "        bars = ax3.bar(model_names, celeb_accs, color=['blue', 'green', 'red', 'purple'][:len(model_names)])\n",
    "        ax3.set_ylabel('Accuracy (%)')\n",
    "        ax3.set_title('Celebrity 10173 Accuracy Comparison')\n",
    "        ax3.grid(True, alpha=0.3)\n",
    "        \n",
    "        for bar in bars:\n",
    "            height = bar.get_height()\n",
    "            if height > 0:\n",
    "                ax3.text(bar.get_x() + bar.get_width()/2., height,\n",
    "                        f'{height:.1f}%', ha='center', va='bottom')\n",
    "    \n",
    "    # Plot 4: Training Time Comparison\n",
    "    ax4 = axes[1, 1]\n",
    "    training_times = [results[m]['training_time'] for m in model_names]\n",
    "    bars = ax4.bar(model_names, training_times, color=['blue', 'green', 'red', 'purple'][:len(model_names)])\n",
    "    ax4.set_ylabel('Time (seconds)')\n",
    "    ax4.set_title('Training Time Comparison')\n",
    "    ax4.grid(True, alpha=0.3)\n",
    "    \n",
    "    for bar in bars:\n",
    "        height = bar.get_height()\n",
    "        ax4.text(bar.get_x() + bar.get_width()/2., height,\n",
    "                f'{height:.0f}s', ha='center', va='bottom')\n",
    "    \n",
    "    plt.tight_layout()\n",
    "    plt.savefig('transfer_learning_comparison.png', dpi=100, bbox_inches='tight')\n",
    "    plt.show()\n",
    "    \n",
    "    # Print summary table\n",
    "    print(\"\\n\" + \"=\"*80)\n",
    "    print(\"FINAL RESULTS SUMMARY\")\n",
    "    print(\"=\"*80)\n",
    "    print(f\"{'Model':<20} {'Val Acc':<12} {'Test Acc':<12} {'10173 Acc':<12} {'Time (s)':<10}\")\n",
    "    print(\"-\"*80)\n",
    "    \n",
    "    for model_name in results:\n",
    "        r = results[model_name]\n",
    "        celeb_str = f\"{r['celeb_10173_acc']:.2f}%\" if r['celeb_10173_acc'] is not None else \"N/A\"\n",
    "        print(f\"{model_name:<20} {r['best_val_acc']:.2f}%{'':<6} \"\n",
    "              f\"{r['test_acc']:.2f}%{'':<6} {celeb_str:<12} {r['training_time']:.1f}\")\n",
    "    \n",
    "    print(\"=\"*80)\n",
    "    print(\"\\nAll models saved with prefix 'best_[model_name]_model.pth'\")\n",
    "    print(\"Comparison plot saved as 'transfer_learning_comparison.png'\")\n",
    "\n",
    "if __name__ == \"__main__\":\n",
    "    main()"
   ]
  }
 ],
 "metadata": {
  "kernelspec": {
   "display_name": "base",
   "language": "python",
   "name": "python3"
  },
  "language_info": {
   "codemirror_mode": {
    "name": "ipython",
    "version": 3
   },
   "file_extension": ".py",
   "mimetype": "text/x-python",
   "name": "python",
   "nbconvert_exporter": "python",
   "pygments_lexer": "ipython3",
   "version": "3.11.8"
  }
 },
 "nbformat": 4,
 "nbformat_minor": 5
}
